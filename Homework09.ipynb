{
 "cells": [
  {
   "cell_type": "markdown",
   "metadata": {
    "id": "QshK8s21WBrf"
   },
   "source": [
    "# Homework09\n",
    "\n",
    "Exercises to practice dimensionality reduction with PCA\n",
    "\n",
    "## Goals\n",
    "\n",
    "- Add unsupervised pre-processing to our ML flow: encode -> normalize -> pre-process -> train -> evaluate\n",
    "- Build an intuition for PCA and when/how to use it\n",
    "- Understand the benefits of dimensionality reduction"
   ]
  },
  {
   "cell_type": "markdown",
   "metadata": {
    "id": "7Hf8SXUwWOho"
   },
   "source": [
    "### Setup\n",
    "\n",
    "Run the following 2 cells to import all necessary libraries and helpers for this homework."
   ]
  },
  {
   "cell_type": "code",
   "execution_count": null,
   "metadata": {},
   "outputs": [],
   "source": [
    "!wget -q https://github.com/PSAM-5020-2025S-A/5020-utils/raw/main/src/data_utils.py\n",
    "!wget -q https://github.com/PSAM-5020-2025S-A/5020-utils/raw/main/src/image_utils.py\n",
    "!wget -q https://github.com/PSAM-5020-2025S-A/Homework07/raw/main/Homework07_utils.pyc\n",
    "\n",
    "!wget -qO- https://github.com/PSAM-5020-2025S-A/5020-utils/releases/latest/download/0801-500.tar.gz | tar xz"
   ]
  },
  {
   "cell_type": "code",
   "execution_count": null,
   "metadata": {},
   "outputs": [],
   "source": [
    "import PIL.Image as PImage\n",
    "\n",
    "from os import listdir, path\n",
    "\n",
    "from data_utils import PCA, RandomForestClassifier, StandardScaler\n",
    "\n",
    "from image_utils import get_pixels, make_image\n",
    "\n",
    "from Homework07_utils import CamUtils\n",
    "\n",
    "import numpy as np\n",
    "\n",
    "import pandas as pd"
   ]
  },
  {
   "cell_type": "markdown",
   "metadata": {},
   "source": [
    "## PCA and Classification\n",
    "\n",
    "Let's practice doing some more image classification with `PCA` and analyzing the results.\n",
    "\n",
    "The dataset is the same one we used in `Homework07`. It has images from $25$ different security cameras, and our task is to separate them by camera. Some of the cameras move, some of them don't, and there are more than $1000$ images, so there's no way we want to do this by hand.\n",
    "\n",
    "Let's start by loading the training images into a list of pixels, like we did with the `faces` dataset in class.\n",
    "\n",
    "### Loading Data\n",
    "\n",
    "If we look at the images in `./data/image/0801-500/train/`, we'll notice that they are named and organized in a slightly different way. They're all in the same directory and the first part of their filename specifies which camera they came from. Even though those `ids` are numbers, they're not sequential, so we'll use some helper functions to extract a unique `label` from their filenames.\n",
    "\n",
    "This is exactly what the `OrdinalEncoder` class does, but since we only have to encode this one column, we'll do it by hand while we read the files in."
   ]
  },
  {
   "cell_type": "code",
   "execution_count": null,
   "metadata": {},
   "outputs": [],
   "source": [
    "# this creates a list of all the files in a given directory, that end in .jpg\n",
    "train_files = [f for f in listdir(\"./data/image/0801-500/train\") if f.endswith(\".jpg\")]"
   ]
  },
  {
   "cell_type": "code",
   "execution_count": null,
   "metadata": {},
   "outputs": [],
   "source": [
    "# TODO: check and see what is inside the list here\n",
    "\n",
    "print(train_files[0])\n",
    "img =PImage.open(\"./data/image/0801-500/train/\"+train_files[1]);\n",
    "img.show()\n",
    "print(len(train_files))\n"
   ]
  },
  {
   "cell_type": "markdown",
   "metadata": {},
   "source": [
    "Now we'll read the image pixels and extract their labels. `CamUtils.get_label()` is the helper function we'll use to \"encode\" and return a label id based on the filename."
   ]
  },
  {
   "cell_type": "code",
   "execution_count": null,
   "metadata": {},
   "outputs": [],
   "source": [
    "pixel_data = []\n",
    "label_data = []\n",
    "\n",
    "for fname in train_files:\n",
    "  label = CamUtils.get_label(fname)\n",
    "  img = PImage.open(path.join(\"./data/image/0801-500/train\", fname))\n",
    "  pixel_data.append(get_pixels(img))\n",
    "  label_data.append(label)"
   ]
  },
  {
   "cell_type": "code",
   "execution_count": null,
   "metadata": {
    "tags": [
     "work_cell"
    ]
   },
   "outputs": [],
   "source": [
    "# TODO: check if labels got extracted correctly by looking at \n",
    "#       the first few items of the label list and the filename list\n",
    "for label in label_data[:5]:\n",
    "    print(label)\n",
    "for pixels in pixel_data[:5]:\n",
    "    print(pixels)\n",
    "    PImage.fromarray(np.array(pixels, dtype=np.uint8).reshape((256, 256))).show()"
   ]
  },
  {
   "cell_type": "markdown",
   "metadata": {},
   "source": [
    "Like in `Homework07`, the labels and the filenames won't match exactly since labels start at $0$ and the filenames start at $01$ and skip some numbers.\n",
    "\n",
    "We can open some images from pixels, just to make sure we loaded them correctly:"
   ]
  },
  {
   "cell_type": "code",
   "execution_count": null,
   "metadata": {},
   "outputs": [],
   "source": [
    "display(make_image(pixel_data[0], width=256))\n",
    "display(make_image(pixel_data[10], width=256))"
   ]
  },
  {
   "cell_type": "markdown",
   "metadata": {},
   "source": [
    "### PCA\n",
    "\n",
    "Create a `DataFrame` called `cam_pca_df` by running `PCA` on the list of pixel data, just like we did in class, and then append a `label` column to it, just like we did in Homewokr07 with: `train_df[\"label\"] = label_data`.\n",
    "\n",
    "You can change how many components to extract from the images later, but for this first run just use $10$ components so we can compare classification with $10$ `PCA` components to the classification with $10$ random features from `Homework07`.  Make sure to confirm how much of the `variance` is preserved by this transformation."
   ]
  },
  {
   "cell_type": "code",
   "execution_count": null,
   "metadata": {
    "tags": [
     "work_cell"
    ]
   },
   "outputs": [],
   "source": [
    "# TODO: run PCA, get DataFrame\n",
    "pca_obj = PCA(n_components = 5)\n",
    "\n",
    "pixel_data_df =pd.DataFrame(pixel_data)\n",
    "\n",
    "cam_pca_df =pca_obj.fit_transform(pixel_data_df)\n",
    "\n",
    "# TODO: add \"label\" column\n",
    "cam_pca_df[\"label\"]=label_data\n"
   ]
  },
  {
   "cell_type": "code",
   "execution_count": null,
   "metadata": {},
   "outputs": [],
   "source": [
    "# TODO: print variance\n",
    "print(pca_obj.explained_variance())"
   ]
  },
  {
   "cell_type": "code",
   "execution_count": null,
   "metadata": {},
   "outputs": [],
   "source": [
    "# TODO: take a look at the first 5 rows\n",
    "for row in cam_pca_df.head(5).values:\n",
    "    print(row)"
   ]
  },
  {
   "cell_type": "markdown",
   "metadata": {},
   "source": [
    "### Interpretation\n",
    "\n",
    "<span style=\"color:hotpink\">\n",
    "How many components did you keep ?<br>\n",
    "Did you try different numbers ?<br>\n",
    "What percent of variance is kept by this transformation?\n",
    "</span>"
   ]
  },
  {
   "cell_type": "markdown",
   "metadata": {
    "tags": [
     "work_cell"
    ]
   },
   "source": [
    "<span style=\"color:hotpink;\">with one component, 24%</span>\n",
    "\n",
    "<span style=\"color:hotpink;\">with 3 component, 51%</span>\n",
    "\n",
    "<span style=\"color:hotpink;\">with 5 component, 64%. So I guess we're reaching diminishing returns.</span>"
   ]
  },
  {
   "cell_type": "markdown",
   "metadata": {},
   "source": [
    "### Reconstruct\n",
    "\n",
    "Before we go run our classification, let's take a look at some reconstructed images, just to make sure they make sense.\n",
    "\n",
    "Take a look at reconstructed versions of images $0$, $10$, and whichever other images you might have opened above.\n",
    "\n",
    "We did this in class. It involves a `inverse_transform()` function."
   ]
  },
  {
   "cell_type": "code",
   "execution_count": null,
   "metadata": {
    "tags": [
     "work_cell"
    ]
   },
   "outputs": [],
   "source": [
    "# TODO: reconstruct image at index 0\n",
    "features = cam_pca_df.drop(columns=[\"label\"])\n",
    "\n",
    "pca_pixels = pca_obj.inverse_transform(features)\n",
    "display(make_image(pca_pixels.loc[0], width=256))\n",
    "# TODO: reconstruct image at index 10\n",
    "\n",
    "\n",
    "display(make_image(pca_pixels.loc[10], width=256))"
   ]
  },
  {
   "cell_type": "markdown",
   "metadata": {},
   "source": [
    "The reconstructed images should look blurrier and noisier than the original ones, but they should still look something like the original ones.\n",
    "\n",
    "### Classify !\n",
    "\n",
    "Train a `RandomForestClassifier` on the `PCA` data.\n",
    "\n",
    "Remember to separate the output feature (`label`) from the input features (`PC0`, `PC1`, etc)."
   ]
  },
  {
   "cell_type": "code",
   "execution_count": null,
   "metadata": {
    "tags": [
     "work_cell"
    ]
   },
   "outputs": [],
   "source": [
    "# TODO: create a classifier\n",
    "model = RandomForestClassifier()\n",
    "\n",
    "# TODO: split input and output features\n",
    "#wait i'm confused I already did this with the image, was I not supposed to? But anyway it worked so I'm not removing it. \n",
    "# and we already have the labels in a separate list so no need to create that either.\n",
    "labels_df =pd.DataFrame(label_data)\n",
    "# TODO: fit the model\n",
    "model.fit(features, labels_df)\n",
    "# TODO: run predictions\n",
    "#or should it be predicting the labels? probably the labels, since we're classifying???\n",
    "train_predictions = model.predict(features)\n",
    "# train_predictions = model.predict(labels_df)"
   ]
  },
  {
   "cell_type": "markdown",
   "metadata": {},
   "source": [
    "### Measure Error\n",
    "\n",
    "For the train set we could use the generic `classification_error()` function that we've used before because we have the true labels for each file, but for measuring accuracy for our `test` set classification, which has secret labels, we have to use a more specific function from the `CamUtils` class.\n",
    "\n",
    "The function is called `classification_accuracy()` and it takes $2$ parameters, a list of filenames and the predicted labels associated with those filenames.\n",
    "\n",
    "The result is an accuracy score ratio, between $0.0$ and $1.0$.\n",
    "\n",
    "We can run this function on the `train` set as well:"
   ]
  },
  {
   "cell_type": "code",
   "execution_count": null,
   "metadata": {},
   "outputs": [],
   "source": [
    "# train_files is the list of files we got way up above\n",
    "CamUtils.classification_accuracy(train_files, train_predictions)"
   ]
  },
  {
   "cell_type": "markdown",
   "metadata": {},
   "source": [
    "### Interpretation\n",
    "\n",
    "<span style=\"color:hotpink\">\n",
    "What does this mean?<br>\n",
    "Should we expect the same result from the test dataset?<br>\n",
    "Why, or why not?\n",
    "</span>"
   ]
  },
  {
   "cell_type": "markdown",
   "metadata": {
    "tags": [
     "work_cell"
    ]
   },
   "source": [
    "<span style=\"color:hotpink;\">of course it will fit the training data perfectly, that's what it learnt the features from.</span>\n",
    "<span style=\"color:hotpink;\">no, it will not run the same result on test, because some of the features will differ, we are probably fitting this data to a larger extent than is universal. 'overfitting' may be the wrong word here, because it's dependent on the accuracy we're aiming for, but yeah. </span>"
   ]
  },
  {
   "cell_type": "markdown",
   "metadata": {},
   "source": [
    "### Run on Test set\n",
    "\n",
    "Now we'll open the image files inside the `./data/image/0801-500/test/` directory, using almost the exact same steps as we did above to create a `DataFrame` with the exception that we don't have labels for these images."
   ]
  },
  {
   "cell_type": "code",
   "execution_count": null,
   "metadata": {
    "tags": [
     "work_cell"
    ]
   },
   "outputs": [],
   "source": [
    "# TODO: create a list of files in the test/ directory\n",
    "test_files = [f for f in listdir(\"./data/image/0801-500/test\") if f.endswith(\".jpg\")]\n",
    "\n",
    "# TODO: check its length and content\n",
    "print(len(test_files))\n",
    "for tf in test_files[:3]:\n",
    "    print(tf)"
   ]
  },
  {
   "cell_type": "code",
   "execution_count": null,
   "metadata": {},
   "outputs": [],
   "source": [
    "#woah wow thats a lot"
   ]
  },
  {
   "cell_type": "markdown",
   "metadata": {},
   "source": [
    "We'll use a similar loop to extract the pixel information from these images, except we don't have `label` data, just pixels."
   ]
  },
  {
   "cell_type": "code",
   "execution_count": null,
   "metadata": {},
   "outputs": [],
   "source": [
    "test_pixel_data = []\n",
    "\n",
    "for fname in test_files:\n",
    "  img = PImage.open(path.join(\"./data/image/0801-500/test\", fname))\n",
    "  test_pixel_data.append(get_pixels(img))"
   ]
  },
  {
   "cell_type": "markdown",
   "metadata": {},
   "source": [
    "Now we can run `PCA` and the `RandomForestClassifier`.\n",
    "\n",
    "Since those are already trained, all we have to do is run their `transform()` function on the data."
   ]
  },
  {
   "cell_type": "code",
   "execution_count": null,
   "metadata": {
    "tags": [
     "work_cell"
    ]
   },
   "outputs": [],
   "source": [
    "# TODO: run PCA on test pixels, get DataFrame\n",
    "#       this is the same PCA that was created above, not a new one\n",
    "\n",
    "\n",
    "test_pixel_df =pd.DataFrame(test_pixel_data)\n",
    "\n",
    "test_pixel_df_fit =pca_obj.fit_transform(test_pixel_df)\n",
    "\n",
    "\n"
   ]
  },
  {
   "cell_type": "markdown",
   "metadata": {},
   "source": [
    "It's always a good idea to check the result of the `PCA` transformation by looking at the `DataFrame` and reconstructing some images."
   ]
  },
  {
   "cell_type": "code",
   "execution_count": null,
   "metadata": {
    "tags": [
     "work_cell"
    ]
   },
   "outputs": [],
   "source": [
    "# TODO: reconstruct one or two images\n",
    "\n",
    "# TODO: take a look at the first 5 rows"
   ]
  },
  {
   "cell_type": "code",
   "execution_count": null,
   "metadata": {},
   "outputs": [],
   "source": [
    "# TODO: reconstruct image at index 0\n",
    "features = cam_pca_df.drop(columns=[\"label\"])\n",
    "\n",
    "pca_pixels = pca_obj.inverse_transform(features)\n",
    "display(make_image(pca_pixels.loc[0], width=256))\n",
    "# TODO: reconstruct image at index 10\n",
    "\n",
    "\n",
    "display(make_image(pca_pixels.loc[10], width=256))"
   ]
  },
  {
   "cell_type": "markdown",
   "metadata": {},
   "source": [
    "### Interpretation\n",
    "\n",
    "<span style=\"color:hotpink\"><br>\n",
    "The reconstructed images from the `test` set will always be noisier than the `train` images.<br><br>\n",
    "Why?<br><br>\n",
    "</span>"
   ]
  },
  {
   "cell_type": "markdown",
   "metadata": {
    "tags": [
     "work_cell"
    ]
   },
   "source": [
    "<span style=\"color:hotpink;\">EDIT THIS CELL WITH ANSWER</span>"
   ]
  },
  {
   "cell_type": "markdown",
   "metadata": {},
   "source": [
    "\n",
    "\n",
    "Run the classifier and get predicted labels. Then get its accuracy ratio is by running the `CamUtils.classification_accuracy()` function with the list of filenames and list of predictions."
   ]
  },
  {
   "cell_type": "code",
   "execution_count": null,
   "metadata": {
    "tags": [
     "work_cell"
    ]
   },
   "outputs": [],
   "source": [
    "# TODO: run classifier. This is the same classifier already fitted on the train data above\n",
    "\n",
    "# TODO: get accuracy"
   ]
  },
  {
   "cell_type": "markdown",
   "metadata": {},
   "source": [
    "### Interpretation\n",
    "\n",
    "<span style=\"color:hotpink\">\n",
    "What's the accuracy ? How could we improve that if we wanted ?<br>\n",
    "How does this compare to the classification model from <code>Homework07</code>? They can both be tuned to perform well, but how many features did we need last time in order to get an accuracy comparable to this?\n",
    "</span>"
   ]
  },
  {
   "cell_type": "markdown",
   "metadata": {
    "tags": [
     "work_cell"
    ]
   },
   "source": [
    "<span style=\"color:hotpink;\">EDIT THIS CELL WITH ANSWER</span>"
   ]
  }
 ],
 "metadata": {
  "colab": {
   "authorship_tag": "ABX9TyPxe2qYxIG7EblrvD1C4Pmv",
   "provenance": []
  },
  "kernelspec": {
   "display_name": "Python 3",
   "language": "python",
   "name": "python3"
  },
  "language_info": {
   "codemirror_mode": {
    "name": "ipython",
    "version": 3
   },
   "file_extension": ".py",
   "mimetype": "text/x-python",
   "name": "python",
   "nbconvert_exporter": "python",
   "pygments_lexer": "ipython3",
   "version": "3.10.16"
  }
 },
 "nbformat": 4,
 "nbformat_minor": 0
}
